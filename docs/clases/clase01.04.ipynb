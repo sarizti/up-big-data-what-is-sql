{
 "cells": [
  {
   "cell_type": "code",
   "execution_count": 4,
   "metadata": {
    "collapsed": true
   },
   "outputs": [],
   "source": [
    "import _sqlite3\n",
    "import pandas as pd"
   ]
  },
  {
   "cell_type": "code",
   "execution_count": 5,
   "outputs": [],
   "source": [
    "connection = _sqlite3.connect('db.sqlite3')\n",
    "cursor = connection.cursor()"
   ],
   "metadata": {
    "collapsed": false
   }
  },
  {
   "cell_type": "code",
   "execution_count": 6,
   "outputs": [],
   "source": [
    "def query_to_df(query):\n",
    "    cursor.execute(query)\n",
    "    rows = cursor.fetchall()\n",
    "    columns = [d[0] for d in cursor.description]\n",
    "    return pd.DataFrame(rows, columns=columns)"
   ],
   "metadata": {
    "collapsed": false
   }
  },
  {
   "cell_type": "code",
   "execution_count": 9,
   "outputs": [],
   "source": [
    "df = query_to_df(\"\"\"\n",
    "SELECT\n",
    "    students.name || ' ' || students.last_name AS \"Student Name\",\n",
    "    enrollments.grade AS \"Calificacion\",\n",
    "    courses.semester AS \"Semestre\",\n",
    "    CASE t.degree\n",
    "        WHEN 'doctorade' THEN 'Dr.'\n",
    "        WHEN 'masters' THEN 'Mtro.'\n",
    "        ELSE 'Lic.'\n",
    "    END ||' '|| t.name ||' '|| t.last_name AS \"Profesor\",\n",
    "    classes.name || ' (' || classes.school || ')' AS \"Clase\"\n",
    "FROM enrollments\n",
    "INNER JOIN students on enrollments.student_id = students.id\n",
    "INNER JOIN courses on enrollments.course_id = courses.id\n",
    "INNER JOIN teachers as t on courses.teacher_id = t.id\n",
    "INNER JOIN classes on courses.class_id = classes.id;\n",
    "\"\"\")"
   ],
   "metadata": {
    "collapsed": false
   }
  }
 ],
 "metadata": {
  "kernelspec": {
   "display_name": "Python 3",
   "language": "python",
   "name": "python3"
  },
  "language_info": {
   "codemirror_mode": {
    "name": "ipython",
    "version": 2
   },
   "file_extension": ".py",
   "mimetype": "text/x-python",
   "name": "python",
   "nbconvert_exporter": "python",
   "pygments_lexer": "ipython2",
   "version": "2.7.6"
  }
 },
 "nbformat": 4,
 "nbformat_minor": 0
}
